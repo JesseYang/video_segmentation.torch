{
 "cells": [
  {
   "cell_type": "code",
   "execution_count": 3,
   "metadata": {
    "collapsed": false
   },
   "outputs": [
    {
     "data": {
      "text/plain": [
       "7629374\t\n",
       "7713930\t\n",
       "7862708\t\n",
       "8036733\t\n"
      ]
     },
     "execution_count": 3,
     "metadata": {},
     "output_type": "execute_result"
    },
    {
     "data": {
      "text/plain": [
       "8229914\t\n",
       "8402711\t\n",
       "8540688\t\n",
       "8520034\t\n",
       "8402590\t\n",
       "8309222\t\n",
       "8224507\t\n",
       "8146765\t\n",
       "8055007\t\n"
      ]
     },
     "execution_count": 3,
     "metadata": {},
     "output_type": "execute_result"
    },
    {
     "data": {
      "text/plain": [
       "7956296\t\n",
       "7872811\t\n",
       "7780932\t\n",
       "7717848\t\n",
       "7632454\t\n",
       "7570605\t\n",
       "7518898\t\n",
       "7489895\t\n"
      ]
     },
     "execution_count": 3,
     "metadata": {},
     "output_type": "execute_result"
    },
    {
     "data": {
      "text/plain": [
       "7447662\t\n",
       "7435047\t\n",
       "7395173\t\n",
       "7373519\t\n",
       "7347338\t\n",
       "7341314\t\n",
       "7316734\t\n",
       "7303544\t\n"
      ]
     },
     "execution_count": 3,
     "metadata": {},
     "output_type": "execute_result"
    },
    {
     "data": {
      "text/plain": [
       "7286831\t\n",
       "7287272\t\n",
       "7273784\t\n",
       "7279224\t\n",
       "7277681\t\n",
       "7286039\t\n",
       "7283019\t\n",
       "7293285\t\n"
      ]
     },
     "execution_count": 3,
     "metadata": {},
     "output_type": "execute_result"
    },
    {
     "data": {
      "text/plain": [
       "7289346\t\n",
       "7289923\t\n",
       "7282260\t\n",
       "7281863\t\n",
       "7269399\t\n",
       "7268592\t\n",
       "7257562\t\n"
      ]
     },
     "execution_count": 3,
     "metadata": {},
     "output_type": "execute_result"
    },
    {
     "data": {
      "text/plain": [
       "7255009\t\n",
       "7243545\t\n",
       "7235215\t\n",
       "7218626\t\n",
       "7214052\t\n",
       "7206466\t\n",
       "7209191\t\n",
       "7197408\t\n"
      ]
     },
     "execution_count": 3,
     "metadata": {},
     "output_type": "execute_result"
    },
    {
     "data": {
      "text/plain": [
       "7203055\t\n",
       "7188078\t\n",
       "7193480\t\n",
       "7185730\t\n",
       "7186785\t\n",
       "7178561\t\n",
       "7181347\t\n",
       "7171740\t\n"
      ]
     },
     "execution_count": 3,
     "metadata": {},
     "output_type": "execute_result"
    },
    {
     "data": {
      "text/plain": [
       "7167462\t\n",
       "7159668\t\n",
       "7159565\t\n",
       "7143658\t\n",
       "7127954\t\n",
       "7099042\t\n",
       "7076984\t\n"
      ]
     },
     "execution_count": 3,
     "metadata": {},
     "output_type": "execute_result"
    },
    {
     "data": {
      "text/plain": [
       "7051801\t\n",
       "7045658\t\n",
       "7037776\t\n",
       "7040276\t\n",
       "7038139\t\n",
       "7045878\t\n",
       "7045924\t\n",
       "7056857\t\n",
       "7061872\t\n"
      ]
     },
     "execution_count": 3,
     "metadata": {},
     "output_type": "execute_result"
    },
    {
     "data": {
      "text/plain": [
       "7074107\t\n",
       "7071303\t\n",
       "7068938\t\n",
       "7045325\t\n",
       "7026686\t\n",
       "6998699\t\n"
      ]
     },
     "execution_count": 3,
     "metadata": {},
     "output_type": "execute_result"
    },
    {
     "data": {
      "text/plain": [
       "6975936\t\n",
       "6945288\t\n",
       "6905185\t\n",
       "6864237\t\n",
       "6853500\t\n",
       "6813081\t\n",
       "6775806\t\n",
       "6702214\t\n"
      ]
     },
     "execution_count": 3,
     "metadata": {},
     "output_type": "execute_result"
    },
    {
     "data": {
      "text/plain": [
       "6606779\t\n",
       "6429529\t\n",
       "6411178\t\n",
       "6383160\t\n",
       "6507228\t\n",
       "6516449\t\n",
       "6654257\t\n",
       "6763208\t\n",
       "6918670\t\n"
      ]
     },
     "execution_count": 3,
     "metadata": {},
     "output_type": "execute_result"
    },
    {
     "data": {
      "text/plain": [
       "6984343\t\n",
       "7136994\t\n",
       "7291100\t\n",
       "7231047\t\n",
       "7030485\t\n",
       "6845958\t\n",
       "6680273\t\n",
       "6416811\t\n"
      ]
     },
     "execution_count": 3,
     "metadata": {},
     "output_type": "execute_result"
    },
    {
     "data": {
      "text/plain": [
       "5883487\t\n",
       "5275542\t\n",
       "4799587\t\n",
       "4458802\t\n",
       "4377020\t\n",
       "4155222\t\n",
       "4215058\t\n",
       "4070090\t\n",
       "3948724\t\n",
       "4280617\t\n",
       "5014824\t\n"
      ]
     },
     "execution_count": 3,
     "metadata": {},
     "output_type": "execute_result"
    },
    {
     "data": {
      "text/plain": [
       "5158116\t\n",
       "5308224\t\n",
       "5368946\t\n",
       "5261318\t\n",
       "5251966\t\n",
       "5251616\t\n",
       "5277907\t\n",
       "5283772\t\n",
       "5306921\t\n",
       "5285090\t\n",
       "5286481\t\n",
       "5261749\t\n"
      ]
     },
     "execution_count": 3,
     "metadata": {},
     "output_type": "execute_result"
    },
    {
     "data": {
      "text/plain": [
       "5283105\t\n",
       "5286749\t\n",
       "5356980\t\n",
       "5371765\t\n",
       "5415688\t\n",
       "5426386\t\n",
       "5451074\t\n",
       "5463807\t\n",
       "5494981\t\n",
       "5473443\t\n",
       "5476207\t\n",
       "5466666\t\n"
      ]
     },
     "execution_count": 3,
     "metadata": {},
     "output_type": "execute_result"
    },
    {
     "data": {
      "text/plain": [
       "5473538\t\n",
       "5462409\t\n",
       "5462947\t\n",
       "5454201\t\n",
       "5469268\t\n",
       "5455331\t\n",
       "5465538\t\n",
       "5408067\t\n",
       "5408738\t\n"
      ]
     },
     "execution_count": 3,
     "metadata": {},
     "output_type": "execute_result"
    },
    {
     "data": {
      "text/plain": [
       "5303049\t\n",
       "5308591\t\n",
       "5227045\t\n",
       "5236004\t\n",
       "5139801\t\n",
       "5124243\t\n",
       "5060319\t\n",
       "5063064\t\n",
       "5030143\t\n",
       "5039469\t\n"
      ]
     },
     "execution_count": 3,
     "metadata": {},
     "output_type": "execute_result"
    },
    {
     "data": {
      "text/plain": [
       "5022275\t\n",
       "5035349\t\n",
       "5023920\t\n",
       "5039476\t\n",
       "5082433\t\n",
       "5185077\t\n",
       "5223832\t\n",
       "5258118\t\n",
       "5254281\t\n",
       "5268489\t\n",
       "5273313\t\n",
       "5278248\t\n",
       "5274109\t\n"
      ]
     },
     "execution_count": 3,
     "metadata": {},
     "output_type": "execute_result"
    },
    {
     "data": {
      "text/plain": [
       "5282390\t\n",
       "5282146\t\n",
       "5291634\t\n",
       "5287589\t\n",
       "5298794\t\n",
       "5296342\t\n",
       "5313019\t\n",
       "5309682\t\n",
       "5314034\t\n",
       "5308749\t\n",
       "5317704\t\n",
       "5315949\t\n",
       "THE END\t\n",
       "187\t\n"
      ]
     },
     "execution_count": 3,
     "metadata": {},
     "output_type": "execute_result"
    }
   ],
   "source": [
    "require 'torch'\n",
    "video = assert(require(\"libvideo_decoder\"))\n",
    "\n",
    "status, height, width, length, fps = video.init('prepare_datasets/dataset/train/test.avi')\n",
    "dst = torch.ByteTensor(3, height, width)\n",
    "i = 1\n",
    "while true do\n",
    "    status = video.frame_rgb(dst)\n",
    "    if status == false then\n",
    "        print(\"THE END\")\n",
    "        print(i)\n",
    "        break\n",
    "    end\n",
    "    print(torch.sum(dst))\n",
    "    i = i + 1\n",
    "    if i % 3000 == 0 then\n",
    "        collectgarbage()\n",
    "        print(i)\n",
    "    end\n",
    "end\n",
    "video.exit()"
   ]
  },
  {
   "cell_type": "code",
   "execution_count": 2,
   "metadata": {
    "collapsed": false
   },
   "outputs": [
    {
     "data": {
      "text/plain": [
       "\n"
      ]
     },
     "execution_count": 2,
     "metadata": {},
     "output_type": "execute_result"
    }
   ],
   "source": []
  },
  {
   "cell_type": "code",
   "execution_count": 1,
   "metadata": {
    "collapsed": false
   },
   "outputs": [
    {
     "data": {
      "text/plain": [
       "10\t\n",
       "11\t\n",
       "12\t\n",
       "13\t\n",
       "14\t\n",
       "15\t\n",
       "16\t\n",
       "17\t\n",
       "18\t\n",
       "19\t\n",
       "20\t\n"
      ]
     },
     "execution_count": 1,
     "metadata": {},
     "output_type": "execute_result"
    }
   ],
   "source": [
    "for x = 10, 20 do\n",
    "    print(x)\n",
    "end"
   ]
  },
  {
   "cell_type": "code",
   "execution_count": null,
   "metadata": {
    "collapsed": true
   },
   "outputs": [],
   "source": []
  }
 ],
 "metadata": {
  "kernelspec": {
   "display_name": "iTorch",
   "language": "lua",
   "name": "itorch"
  },
  "language_info": {
   "name": "lua",
   "version": "5.1"
  }
 },
 "nbformat": 4,
 "nbformat_minor": 1
}
