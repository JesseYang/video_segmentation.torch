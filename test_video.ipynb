{
 "cells": [
  {
   "cell_type": "code",
   "execution_count": 6,
   "metadata": {
    "collapsed": false
   },
   "outputs": [
    {
     "data": {
      "text/plain": [
       "3000\t\n"
      ]
     },
     "execution_count": 6,
     "metadata": {},
     "output_type": "execute_result"
    },
    {
     "data": {
      "text/plain": [
       "6000\t\n"
      ]
     },
     "execution_count": 6,
     "metadata": {},
     "output_type": "execute_result"
    },
    {
     "data": {
      "text/plain": [
       "9000\t\n"
      ]
     },
     "execution_count": 6,
     "metadata": {},
     "output_type": "execute_result"
    },
    {
     "data": {
      "text/plain": [
       "12000\t\n"
      ]
     },
     "execution_count": 6,
     "metadata": {},
     "output_type": "execute_result"
    },
    {
     "data": {
      "text/plain": [
       "THE END\t\n",
       "13885\t\n"
      ]
     },
     "execution_count": 6,
     "metadata": {},
     "output_type": "execute_result"
    }
   ],
   "source": [
    "require 'torch'\n",
    "video = assert(require(\"libvideo_decoder\"))\n",
    "\n",
    "status, height, width, length, fps = video.init('prepare_datasets/dataset/train/video.mp4')\n",
    "dst = torch.ByteTensor(3, height, width)\n",
    "i = 1\n",
    "while true do\n",
    "    status = video.frame_rgb(dst)\n",
    "    if status == false then\n",
    "        print(\"THE END\")\n",
    "        print(i)\n",
    "        break\n",
    "    end\n",
    "    i = i + 1\n",
    "    if i % 3000 == 0 then\n",
    "        collectgarbage()\n",
    "        print(i)\n",
    "    end\n",
    "end\n",
    "video.exit()"
   ]
  },
  {
   "cell_type": "code",
   "execution_count": 2,
   "metadata": {
    "collapsed": false
   },
   "outputs": [
    {
     "data": {
      "text/plain": [
       "\n"
      ]
     },
     "execution_count": 2,
     "metadata": {},
     "output_type": "execute_result"
    }
   ],
   "source": []
  },
  {
   "cell_type": "code",
   "execution_count": 1,
   "metadata": {
    "collapsed": false
   },
   "outputs": [
    {
     "data": {
      "text/plain": [
       "10\t\n",
       "11\t\n",
       "12\t\n",
       "13\t\n",
       "14\t\n",
       "15\t\n",
       "16\t\n",
       "17\t\n",
       "18\t\n",
       "19\t\n",
       "20\t\n"
      ]
     },
     "execution_count": 1,
     "metadata": {},
     "output_type": "execute_result"
    }
   ],
   "source": [
    "for x = 10, 20 do\n",
    "    print(x)\n",
    "end"
   ]
  },
  {
   "cell_type": "code",
   "execution_count": null,
   "metadata": {
    "collapsed": true
   },
   "outputs": [],
   "source": []
  }
 ],
 "metadata": {
  "kernelspec": {
   "display_name": "iTorch",
   "language": "lua",
   "name": "itorch"
  },
  "language_info": {
   "name": "lua",
   "version": "5.1"
  }
 },
 "nbformat": 4,
 "nbformat_minor": 1
}
