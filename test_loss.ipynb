{
 "cells": [
  {
   "cell_type": "code",
   "execution_count": 1,
   "metadata": {
    "collapsed": false
   },
   "outputs": [
    {
     "data": {
      "text/plain": [
       "{\n",
       "  VolumetricMaxUnpooling : table: 0x408b75e8\n",
       "  ConcatTable : table: 0x40d983d0\n",
       "  MV : table: 0x41f2a860\n",
       "  SpatialAveragePooling : table: 0x41c7bd08\n",
       "  SpatialConvolutionMM : table: 0x41c67180\n",
       "  VolumetricReplicationPadding : table: 0x408bd1a0\n",
       "  Reshape : table: 0x41ce2eb8\n",
       "  Jacobian : \n",
       "    {\n",
       "      forward : function: 0x41f2faf8\n",
       "      testAllUpdate : function: 0x41f2fbc0\n",
       "      testDiagHessianInput : function: 0x41f2faa0\n",
       "      testDiagHessianWeight : function: 0x41f2fb18\n",
       "      testDiagHessianBias : function: 0x41f2fb38\n",
       "      testDiagHessian : function: 0x41f30558\n",
       "      testJacobian : function: 0x41f30370\n",
       "      testIO : function: 0x41f2fb58\n",
       "      testJacobianUpdateParameters : function: 0x41f303b0\n",
       "      backwardDiagHessian : function: 0x41f2fb80\n",
       "      testJacobianParameters : function: 0x41f30390\n",
       "      backwardUpdate : function: 0x41f2fad8\n",
       "      forwardUpdate : function: 0x41f30350\n",
       "      backward : function: 0x41f2fa80\n",
       "      linearModuleDiagHessian : function: 0x41f2fba0\n",
       "    }\n",
       "  SparseLinear : table: 0x40493140\n",
       "  SoftMarginCriterion : table: 0x401b56e8\n",
       "  SpatialCrossMapLRN : table: 0x41bd5770\n",
       "  CAddTable : table: 0x40a1bff0\n",
       "  TemporalConvolution : table: 0x41bc3b50\n",
       "  PairwiseDistance : table: 0x40922c80\n",
       "  SpatialLogSoftMax : table: 0x41f02280\n",
       "  WeightedMSECriterion : table: 0x401c2f80\n",
       "  Bottle : table: 0x415cd640\n",
       "  SelectTable : table: 0x40d9d9a8\n",
       "  TemporalSubSampling : table: 0x41bc6108\n",
       "  PartialLinear : table: 0x415cbc68\n",
       "  TanhShrink : table: 0x416e6c00\n",
       "  MixtureTable : table: 0x40da1e40\n",
       "  Normalize : table: 0x40915b78\n",
       "  LogSoftMax : table: 0x416dce08\n",
       "  Identity : table: 0x40d943a8\n",
       "  Exp : table: 0x416d5f18\n",
       "  Add : table: 0x40a122e0\n",
       "  CAdd : table: 0x40a10250\n",
       "  MapTable : table: 0x40da9fd0\n",
       "  SpatialConvolutionLocal : table: 0x41f13b78\n",
       "  Squeeze : table: 0x41afa220\n",
       "  AbsCriterion : table: 0x401b6e00\n",
       "  MultiCriterion : table: 0x401c1f68\n",
       "  Max : table: 0x41cf8d08\n",
       "  MulConstant : table: 0x40a0d1b8\n",
       "  Replicate : table: 0x402f25b0\n",
       "  View : table: 0x41af2510\n",
       "  VolumetricConvolution : table: 0x408a7568\n",
       "  SpatialSubSampling : table: 0x41c72410\n",
       "  HardTanh : table: 0x416d9008\n",
       "  Transpose : table: 0x402f3c50\n",
       "  SplitTable : table: 0x40d998c8\n",
       "  DotProduct : table: 0x409274e8\n",
       "  HingeEmbeddingCriterion : table: 0x401c5958\n",
       "  tables : \n",
       "    {\n",
       "      full : function: 0x41c6b8a8\n",
       "      oneToOne : function: 0x41c6b8c8\n",
       "      random : function: 0x41c6b8e8\n",
       "    }\n",
       "  DepthConcat : table: 0x41e275f8\n",
       "  Sigmoid : table: 0x416de398\n",
       "  SpatialAdaptiveMaxPooling : table: 0x41bc1538\n",
       "  Parallel : table: 0x40ade298\n",
       "  SoftShrink : table: 0x416e14c0\n",
       "  CMinTable : table: 0x40917290\n",
       "  SpatialSubtractiveNormalization : table: 0x41bccce8\n",
       "  GPU : table: 0x40d905d8\n",
       "  Log : table: 0x416d7440\n",
       "  VolumetricDropout : table: 0x40a1a5c8\n",
       "  SpatialDropout : table: 0x40a18398\n",
       "  LeakyReLU : table: 0x41eff5e0\n",
       "  VolumetricMaxPooling : table: 0x408b2d20\n",
       "  TemporalDynamicKMaxPooling : table: 0x41bc9dc0\n",
       "  hessian : \n",
       "    {\n",
       "      enable : function: 0x41f38488\n",
       "    }\n",
       "  Linear : table: 0x415d5608\n",
       "  Euclidean : table: 0x4091bd88\n",
       "  CriterionTable : table: 0x40da43a8\n",
       "  SpatialMaxPooling : table: 0x41c74a50\n",
       "  MaskedSelect : table: 0x41cf1020\n",
       "  MultiMarginCriterion : table: 0x401cc6a8\n",
       "  ELU : table: 0x41f05600\n",
       "  Threshold : table: 0x416e8328\n",
       "  SpatialReflectionPadding : table: 0x41bda2a0\n",
       "  Copy : table: 0x41cf3ef0\n",
       "  Unsqueeze : table: 0x41af8998\n",
       "  VolumetricAveragePooling : table: 0x408b9410\n",
       "  StochasticGradient : table: 0x41f263c8\n",
       "  SpatialContrastiveNormalization : table: 0x41bd1920\n",
       "  Bilinear : table: 0x415bd768\n",
       "  SpatialReplicationPadding : table: 0x41bdc7b0\n",
       "  SpatialUpSamplingBilinear : table: 0x41bd87e8\n",
       "  CDivTable : table: 0x40a1dcb8\n",
       "  Container : table: 0x40298fd0\n",
       "  MarginRankingCriterion : table: 0x401cac68\n",
       "  Module : table: 0x4048f1c8\n",
       "  VolumetricFullConvolution : table: 0x408acdc0\n",
       "  Concat : table: 0x402a5638\n",
       "  CrossEntropyCriterion : table: 0x41f20708\n",
       "  LookupTable : table: 0x41f09ca0\n",
       "  ParallelTable : table: 0x40d92fb0\n",
       "  HardShrink : table: 0x416ed050\n",
       "  Abs : table: 0x416e7e78\n",
       "  SparseJacobian : \n",
       "    {\n",
       "      forward : function: 0x41f353e8\n",
       "      testJacobian : function: 0x41f35490\n"
      ]
     },
     "execution_count": 1,
     "metadata": {},
     "output_type": "execute_result"
    },
    {
     "data": {
      "text/plain": [
       "      testIO : function: 0x41f34ce8\n",
       "      testAllUpdate : function: 0x41f34d08\n",
       "      testJacobianParameters : function: 0x41f32e40\n",
       "      testJacobianUpdateParameters : function: 0x41f32e60\n",
       "      forwardUpdate : function: 0x41f35470\n",
       "      backward : function: 0x41f353a8\n",
       "      backwardUpdate : function: 0x41f353c8\n",
       "    }\n",
       "  SoftMin : table: 0x416e0fb8\n",
       "  WeightedEuclidean : table: 0x409206a8\n",
       "  VolumetricBatchNormalization : table: 0x408ba378\n",
       "  ClassSimplexCriterion : table: 0x401be7c0\n",
       "  Contiguous : table: 0x41af36d0\n",
       "  testTHNN : function: 0x41ebe120\n",
       "  test : function: 0x41eb86d0\n",
       "  MM : table: 0x41f289b0\n",
       "  FlattenTable : table: 0x40da5490\n",
       "  PixelShuffle : table: 0x41f244f8\n",
       "  PReLU : table: 0x41efda38\n",
       "  utils : \n",
       "    {\n",
       "      contiguousView : function: 0x41e14258\n",
       "      recursiveType : function: 0x4029ac38\n",
       "      recursiveCopy : function: 0x40adcf68\n",
       "      recursiveResizeAs : function: 0x4064feb0\n",
       "      recursiveAdd : function: 0x4029ec88\n",
       "      clear : function: 0x41e14278\n",
       "      addSingletonDimension : function: 0x40adcf88\n",
       "      recursiveFill : function: 0x4064fed0\n",
       "    }\n",
       "  JoinTable : table: 0x40d9bf80\n",
       "  SpatialDilatedMaxPooling : table: 0x41c76f00\n",
       "  CMul : table: 0x41cf7428\n",
       "  CosineDistance : table: 0x40925ce8\n",
       "  Index : table: 0x41af8588\n",
       "  Mean : table: 0x41cfbdb0\n",
       "  ParallelCriterion : table: 0x41f221a0\n",
       "  Dropout : table: 0x40a16320\n",
       "  BCECriterion : table: 0x4030f680\n",
       "  SoftPlus : table: 0x416e25f0\n",
       "  MultiLabelMarginCriterion : table: 0x401cddc0\n",
       "  L1Cost : table: 0x40d953a8\n",
       "  MultiLabelSoftMarginCriterion : table: 0x401cf8c0\n",
       "  SpatialDivisiveNormalization : table: 0x41bd09b0\n",
       "  L1Penalty : table: 0x401b45b0\n",
       "  CosineEmbeddingCriterion : table: 0x401c8f28\n",
       "  VolumetricDilatedMaxPooling : table: 0x408b5320\n",
       "  Sqrt : table: 0x416ebc00\n",
       "  Sequential : table: 0x41e29810\n",
       "  L1HingeEmbeddingCriterion : table: 0x401c3ae0\n",
       "  DistKLDivCriterion : table: 0x401c0418\n",
       "  Square : table: 0x416ea760\n",
       "  SpatialClassNLLCriterion : table: 0x401bb560\n",
       "  ClassNLLCriterion : table: 0x401b9210\n",
       "  MarginCriterion : table: 0x401b4140\n",
       "  SmoothL1Criterion : table: 0x401b2b78\n",
       "  SoftMax : table: 0x416df6d0\n",
       "  MSECriterion : table: 0x401b1360\n",
       "  Cosine : table: 0x40922998\n",
       "  Clamp : table: 0x416d9f80\n",
       "  Criterion : table: 0x40dac410\n",
       "  NarrowTable : table: 0x40da73e8\n",
       "  Power : table: 0x416e93b0\n",
       "  TemporalMaxPooling : table: 0x41bc79f8\n",
       "  CMulTable : table: 0x40911ad8\n",
       "  Sum : table: 0x41cfb040\n",
       "  SoftSign : table: 0x416e3bc8\n",
       "  LogSigmoid : table: 0x416db810\n",
       "  CSubTable : table: 0x409139b0\n",
       "  Min : table: 0x41cf6680\n",
       "  SpatialLPPooling : table: 0x41c7e3c8\n",
       "  Tanh : table: 0x416e4fc8\n",
       "  ReLU6 : table: 0x41efb800\n",
       "  SpatialMaxUnpooling : table: 0x41c79020\n",
       "  Select : table: 0x41af51e0\n",
       "  BatchNormalization : table: 0x402f87d8\n",
       "  Mul : table: 0x40a0b738\n",
       "  VolumetricDilatedConvolution : table: 0x408afc38\n",
       "  SpatialConvolution : table: 0x41f0e248\n",
       "  GradientReversal : table: 0x402fbcd0\n",
       "  SpatialConvolutionMap : table: 0x41c6b7e0\n",
       "  CMaxTable : table: 0x409156b0\n",
       "  ReLU : table: 0x41efa048\n",
       "  Padding : table: 0x402fa8a0\n",
       "  SpatialDilatedConvolution : table: 0x41c71520\n",
       "  SpatialFullConvolution : table: 0x41efa4d0\n",
       "  AddConstant : table: 0x40a13b18\n",
       "  RReLU : table: 0x41f04060\n",
       "  SpatialZeroPadding : table: 0x41bd8aa8\n",
       "  SpatialFullConvolutionMap : table: 0x41c63238\n",
       "  Narrow : table: 0x41af6ca8\n",
       "  SpatialUpSamplingNearest : table: 0x41bcd368\n",
       "  SpatialBatchNormalization : table: 0x41bdaa68\n",
       "  SpatialSoftMax : table: 0x41f00be8\n",
       "  SpatialFractionalMaxPooling : table: 0x41c7c960\n",
       "}\n"
      ]
     },
     "execution_count": 1,
     "metadata": {},
     "output_type": "execute_result"
    }
   ],
   "source": [
    "require 'nn'"
   ]
  },
  {
   "cell_type": "code",
   "execution_count": 2,
   "metadata": {
    "collapsed": true
   },
   "outputs": [],
   "source": [
    "criterion = nn.CrossEntropyCriterion()"
   ]
  },
  {
   "cell_type": "code",
   "execution_count": 32,
   "metadata": {
    "collapsed": false
   },
   "outputs": [],
   "source": [
    "batch = 1\n",
    "prediction = torch.DoubleTensor(batch,2)\n",
    "target = torch.DoubleTensor(batch)"
   ]
  },
  {
   "cell_type": "code",
   "execution_count": 39,
   "metadata": {
    "collapsed": false
   },
   "outputs": [
    {
     "data": {
      "text/plain": [
       "1\t\n"
      ]
     },
     "execution_count": 39,
     "metadata": {},
     "output_type": "execute_result"
    }
   ],
   "source": [
    "for i =1,batch do\n",
    "    print(i)\n",
    "    prediction[i][1] = 1\n",
    "    prediction[i][2] = 10\n",
    "    target[i] = 1\n",
    "end"
   ]
  },
  {
   "cell_type": "code",
   "execution_count": 40,
   "metadata": {
    "collapsed": false
   },
   "outputs": [
    {
     "data": {
      "text/plain": [
       "9.0001234021897\t\n"
      ]
     },
     "execution_count": 40,
     "metadata": {},
     "output_type": "execute_result"
    }
   ],
   "source": [
    "criterion:forward(prediction, target)"
   ]
  },
  {
   "cell_type": "code",
   "execution_count": null,
   "metadata": {
    "collapsed": true
   },
   "outputs": [],
   "source": []
  }
 ],
 "metadata": {
  "kernelspec": {
   "display_name": "iTorch",
   "language": "lua",
   "name": "itorch"
  },
  "language_info": {
   "name": "lua",
   "version": "5.1"
  }
 },
 "nbformat": 4,
 "nbformat_minor": 1
}
