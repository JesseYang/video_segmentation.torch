{
 "cells": [
  {
   "cell_type": "code",
   "execution_count": 1,
   "metadata": {
    "collapsed": false
   },
   "outputs": [],
   "source": [
    "Network = require 'Network'\n",
    "json = require 'json'\n",
    "\n",
    "-- Options can be overrided on command line run.\n",
    "cmd = torch.CmdLine()\n",
    "-- cmd:option('-loadModel', false, 'Load previously saved model')\n",
    "cmd:option('-saveModel', true, 'Save model after training/testing')\n",
    "cmd:option('-modelName', 'VideoSegmentation', 'Name of class containing architecture')\n",
    "cmd:option('-nGPU', 1, 'Number of GPUs, set -1 to use CPU')\n",
    "cmd:option('-trainingSetLMDBPath', './prepare_datasets/lmdb/train/', 'Path to LMDB training dataset')\n",
    "cmd:option('-validationSetLMDBPath', './prepare_datasets/lmdb/test/', 'Path to LMDB test dataset')\n",
    "cmd:option('-logsTrainPath', './logs/TrainingLoss/', ' Path to save Training logs')\n",
    "cmd:option('-logsValidationPath', './logs/ValidationScores/', ' Path to save Validation logs')\n",
    "cmd:option('-saveModelInTraining', false, 'save model periodically through training')\n",
    "cmd:option('-modelTrainingPath', './models/', ' Path to save periodic training models')\n",
    "cmd:option('-saveModelIterations', 50, 'When to save model through training')\n",
    "cmd:option('-modelPath', 'video_segmentation.t7', 'Path of final model to save/load')\n",
    "-- cmd:option('-dictionaryPath', './equ_dictionary', ' File containing the dictionary to use')\n",
    "cmd:option('-epochs', 70, 'Number of epochs for training')\n",
    "cmd:option('-learningRate', 3e-4, ' Training learning rate')\n",
    "cmd:option('-learningRateAnnealing', 1.1, 'Factor to anneal lr every epoch')\n",
    "-- cmd:option('-maxNorm', 400, 'Max norm used to normalize gradients')\n",
    "cmd:option('-momentum', 0.90, 'Momentum for SGD')\n",
    "cmd:option('-batchSize', 10, 'Batch size in training')\n",
    "cmd:option('-validationBatchSize', 10, 'Batch size for validation')\n",
    "\n",
    "opt = cmd:parse(\"\")\n",
    "\n",
    "net_opt = json.load('params.json')\n",
    "\n",
    "for k,v in pairs(net_opt) do opt[k] = v end\n",
    "\n",
    "--Parameters for the stochastic gradient descent (using the optim library).\n",
    "optimParams = {\n",
    "    learningRate = opt.learningRate,\n",
    "    learningRateAnnealing = opt.learningRateAnnealing,\n",
    "    momentum = opt.momentum,\n",
    "    dampening = 0,\n",
    "    nesterov = true\n",
    "}\n",
    "\n",
    "--Create and train the network based on the parameters and training data.\n",
    "Network:init(opt)"
   ]
  },
  {
   "cell_type": "code",
   "execution_count": 2,
   "metadata": {
    "collapsed": false
   },
   "outputs": [],
   "source": [
    "inds = Network.indexer:nextIndices()"
   ]
  },
  {
   "cell_type": "code",
   "execution_count": 3,
   "metadata": {
    "collapsed": false
   },
   "outputs": [],
   "source": [
    "loader = Loader(Network.trainingSetLMDBPath)"
   ]
  },
  {
   "cell_type": "code",
   "execution_count": 4,
   "metadata": {
    "collapsed": false
   },
   "outputs": [],
   "source": [
    "clipBuf, labelBuf = loader:nextBatch(inds)"
   ]
  },
  {
   "cell_type": "code",
   "execution_count": 5,
   "metadata": {
    "collapsed": false
   },
   "outputs": [],
   "source": [
    "m1 = Network.model:get(1)"
   ]
  },
  {
   "cell_type": "code",
   "execution_count": 6,
   "metadata": {
    "collapsed": true
   },
   "outputs": [],
   "source": [
    "m2 = Network.model:get(2)"
   ]
  },
  {
   "cell_type": "code",
   "execution_count": 7,
   "metadata": {
    "collapsed": true
   },
   "outputs": [],
   "source": [
    "m3 = Network.model:get(3)"
   ]
  },
  {
   "cell_type": "code",
   "execution_count": 8,
   "metadata": {
    "collapsed": false
   },
   "outputs": [],
   "source": [
    "d1 = m1:forward(clipBuf:cuda())"
   ]
  },
  {
   "cell_type": "code",
   "execution_count": 9,
   "metadata": {
    "collapsed": false
   },
   "outputs": [],
   "source": [
    "d2 = m2:forward(d1)"
   ]
  },
  {
   "cell_type": "code",
   "execution_count": 10,
   "metadata": {
    "collapsed": true
   },
   "outputs": [],
   "source": [
    "d3 = m3:forward(d2)"
   ]
  },
  {
   "cell_type": "code",
   "execution_count": 11,
   "metadata": {
    "collapsed": false
   },
   "outputs": [],
   "source": [
    "criterion = nn.CrossEntropyCriterion():cuda()"
   ]
  },
  {
   "cell_type": "code",
   "execution_count": 12,
   "metadata": {
    "collapsed": false
   },
   "outputs": [
    {
     "data": {
      "text/plain": [
       "1.12573158741\t\n"
      ]
     },
     "execution_count": 12,
     "metadata": {},
     "output_type": "execute_result"
    }
   ],
   "source": [
    "criterion:forward(d3, labelBuf)"
   ]
  }
 ],
 "metadata": {
  "kernelspec": {
   "display_name": "iTorch",
   "language": "lua",
   "name": "itorch"
  },
  "language_info": {
   "name": "lua",
   "version": "5.1"
  }
 },
 "nbformat": 4,
 "nbformat_minor": 1
}
